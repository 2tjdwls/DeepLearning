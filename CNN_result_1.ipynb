{
 "cells": [
  {
   "cell_type": "code",
   "execution_count": 1,
   "metadata": {},
   "outputs": [],
   "source": [
    "import numpy as np\n",
    "import pandas as pd\n",
    "from keras.utils.np_utils import to_categorical\n",
    "from sklearn.model_selection import train_test_split\n",
    "import keras\n",
    "import keras.models\n",
    "from keras.models import Sequential\n",
    "from keras.layers import Conv2D, Lambda, MaxPooling2D\n",
    "from keras.layers import Dense, Dropout, Flatten, BatchNormalization\n",
    "from keras.callbacks import EarlyStopping, ModelCheckpoint, ReduceLROnPlateau\n",
    "from matplotlib import pyplot as plt\n",
    "from sklearn.metrics import accuracy_score, precision_score, recall_score, f1_score, roc_auc_score\n",
    "from sklearn.model_selection import KFold\n",
    "from sklearn.model_selection import StratifiedKFold\n",
    "from sklearn.model_selection import cross_val_score\n",
    "from mlxtend.plotting import plot_confusion_matrix\n",
    "from sklearn.metrics import confusion_matrix\n",
    "from sklearn.metrics import roc_auc_score, roc_curve"
   ]
  },
  {
   "cell_type": "code",
   "execution_count": null,
   "metadata": {},
   "outputs": [],
   "source": []
  },
  {
   "cell_type": "code",
   "execution_count": 2,
   "metadata": {},
   "outputs": [],
   "source": [
    "data = pd.read_csv('2s_shift_dataset.csv')"
   ]
  },
  {
   "cell_type": "code",
   "execution_count": 3,
   "metadata": {},
   "outputs": [
    {
     "data": {
      "text/plain": [
       "(56091, 266)"
      ]
     },
     "execution_count": 3,
     "metadata": {},
     "output_type": "execute_result"
    }
   ],
   "source": [
    "data.shape"
   ]
  },
  {
   "cell_type": "code",
   "execution_count": 4,
   "metadata": {},
   "outputs": [
    {
     "data": {
      "image/png": "[encoded data removed]",
      "text/plain": [
       "<Figure size 432x288 with 1 Axes>"
      ]
     },
     "metadata": {},
     "output_type": "display_data"
    },
    {
     "name": "stdout",
     "output_type": "stream",
     "text": [
      "0    50.507211\n",
      "1    49.492789\n",
      "Name: label, dtype: float64\n"
     ]
    }
   ],
   "source": [
    "data.label.value_counts(normalize=True).plot(kind='pie', autopct='%1.2f%%',textprops={'fontsize': 10})\n",
    "plt.show()\n",
    "print(data.label.value_counts(normalize=True)*100)"
   ]
  },
  {
   "cell_type": "code",
   "execution_count": 5,
   "metadata": {},
   "outputs": [
    {
     "data": {
      "text/plain": [
       "(56091, 266)"
      ]
     },
     "execution_count": 5,
     "metadata": {},
     "output_type": "execute_result"
    }
   ],
   "source": [
    "train_test = np.random.permutation(data)\n",
    "train_test.shape"
   ]
  },
  {
   "cell_type": "code",
   "execution_count": 6,
   "metadata": {},
   "outputs": [
    {
     "data": {
      "text/plain": [
       "array([[ 1.00000000e+00,  9.73725068e-02, -2.85552953e-02, ...,\n",
       "        -3.07662745e-01,  6.77401118e-01,  5.28340128e+00],\n",
       "       [ 0.00000000e+00, -3.10799097e-03,  1.00493566e-01, ...,\n",
       "        -5.63398562e-02,  1.00123486e+00,  1.77859110e+00],\n",
       "       [ 1.00000000e+00, -9.12344294e-02,  1.82401722e-01, ...,\n",
       "        -3.64618287e-01, -2.49717693e-01, -2.92027216e-01],\n",
       "       ...,\n",
       "       [ 0.00000000e+00, -1.07607980e-01, -4.98253776e-02, ...,\n",
       "        -4.27936390e-01, -3.37500863e-01, -4.67421505e-01],\n",
       "       [ 0.00000000e+00, -2.10380385e-01,  1.97668756e+00, ...,\n",
       "        -2.54158362e-01,  6.90631441e-02,  2.85262009e-01],\n",
       "       [ 1.00000000e+00, -3.86543556e-02,  4.71945055e-01, ...,\n",
       "        -3.12111613e-01, -1.62791120e-01, -3.31029024e-01]])"
      ]
     },
     "execution_count": 6,
     "metadata": {},
     "output_type": "execute_result"
    }
   ],
   "source": [
    "train_use = train_test[0:50748]\n",
    "train_use"
   ]
  },
  {
   "cell_type": "code",
   "execution_count": 7,
   "metadata": {},
   "outputs": [
    {
     "data": {
      "text/plain": [
       "(5342, 266)"
      ]
     },
     "execution_count": 7,
     "metadata": {},
     "output_type": "execute_result"
    }
   ],
   "source": [
    "test_use = train_test[50749:]\n",
    "test_use.shape"
   ]
  },
  {
   "cell_type": "code",
   "execution_count": 8,
   "metadata": {},
   "outputs": [],
   "source": [
    "X_train = train_use[:,1:]\n",
    "y_train = train_use[:,0]\n",
    "X_test = test_use[:,1:]\n",
    "y_test = test_use[:,0]"
   ]
  },
  {
   "cell_type": "code",
   "execution_count": 9,
   "metadata": {},
   "outputs": [],
   "source": [
    "# 5 * 53 * 1로 변환\n",
    "X_train = X_train.reshape(-1,5,53,1)\n",
    "X_test = X_test.reshape(-1,5,53,1)"
   ]
  },
  {
   "cell_type": "code",
   "execution_count": 11,
   "metadata": {},
   "outputs": [],
   "source": [
    "model=Sequential()\n",
    "\n",
    "#model.add(Lambda(standardize,input_shape=(5,53,1)))   \n",
    "model.add(Conv2D(filters=64, kernel_size = (3,3), activation=\"relu\", input_shape=(5,53,1)))\n",
    "model.add(Conv2D(filters=64, kernel_size = (3,3), activation=\"relu\"))\n",
    "model.add(BatchNormalization())\n",
    "\n",
    "model.add(Flatten())\n",
    "model.add(Dense(512,activation=\"relu\"))\n",
    "model.add(Dense(256,activation=\"relu\"))\n",
    "model.add(Dense(1,activation=\"sigmoid\"))\n",
    "\n",
    "model.compile(loss=\"binary_crossentropy\", optimizer=\"adam\", metrics=[\"accuracy\"])"
   ]
  },
  {
   "cell_type": "code",
   "execution_count": 12,
   "metadata": {},
   "outputs": [],
   "source": [
    "epochs = 100\n",
    "batch_size = 128\n",
    "\n",
    "# Early Stopping\n",
    "es = EarlyStopping(monitor=\"loss\",\n",
    "                   patience=10,\n",
    "                   verbose=1,\n",
    "                   mode=\"max\",\n",
    "                   restore_best_weights=True,)\n",
    "\n",
    "\n",
    "# Reduce Learning Rate\n",
    "reduce_lr = ReduceLROnPlateau(monitor=\"loss\",\n",
    "                              factor=0.2,\n",
    "                              patience=3,\n",
    "                              verbose=1,\n",
    "                              mode=\"max\",\n",
    "                              min_lr=0.00001)"
   ]
  },
  {
   "cell_type": "code",
   "execution_count": 13,
   "metadata": {},
   "outputs": [
    {
     "name": "stdout",
     "output_type": "stream",
     "text": [
      "Epoch 1/100\n",
      "1586/1586 [==============================] - 15s 5ms/step - loss: 0.2509 - accuracy: 0.8898 - val_loss: 0.1284 - val_accuracy: 0.9493 - lr: 0.0010\n",
      "Epoch 2/100\n",
      "1586/1586 [==============================] - 8s 5ms/step - loss: 0.0812 - accuracy: 0.9705 - val_loss: 0.0746 - val_accuracy: 0.9706 - lr: 0.0010\n",
      "Epoch 3/100\n",
      "1586/1586 [==============================] - 8s 5ms/step - loss: 0.0488 - accuracy: 0.9829 - val_loss: 0.1374 - val_accuracy: 0.9508 - lr: 0.0010\n",
      "Epoch 4/100\n",
      "1584/1586 [============================>.] - ETA: 0s - loss: 0.0364 - accuracy: 0.9879\n",
      "Epoch 4: ReduceLROnPlateau reducing learning rate to 0.00020000000949949026.\n",
      "1586/1586 [==============================] - 8s 5ms/step - loss: 0.0363 - accuracy: 0.9879 - val_loss: 0.0663 - val_accuracy: 0.9755 - lr: 0.0010\n",
      "Epoch 5/100\n",
      "1586/1586 [==============================] - 8s 5ms/step - loss: 0.0090 - accuracy: 0.9970 - val_loss: 0.0111 - val_accuracy: 0.9963 - lr: 2.0000e-04\n",
      "Epoch 6/100\n",
      "1586/1586 [==============================] - 8s 5ms/step - loss: 0.0070 - accuracy: 0.9975 - val_loss: 0.0147 - val_accuracy: 0.9957 - lr: 2.0000e-04\n",
      "Epoch 7/100\n",
      "1578/1586 [============================>.] - ETA: 0s - loss: 0.0063 - accuracy: 0.9976\n",
      "Epoch 7: ReduceLROnPlateau reducing learning rate to 4.0000001899898055e-05.\n",
      "1586/1586 [==============================] - 8s 5ms/step - loss: 0.0063 - accuracy: 0.9976 - val_loss: 0.0080 - val_accuracy: 0.9978 - lr: 2.0000e-04\n",
      "Epoch 8/100\n",
      "1586/1586 [==============================] - 8s 5ms/step - loss: 0.0031 - accuracy: 0.9989 - val_loss: 0.0065 - val_accuracy: 0.9983 - lr: 4.0000e-05\n",
      "Epoch 9/100\n",
      "1586/1586 [==============================] - 8s 5ms/step - loss: 0.0022 - accuracy: 0.9992 - val_loss: 0.0058 - val_accuracy: 0.9985 - lr: 4.0000e-05\n",
      "Epoch 10/100\n",
      "1576/1586 [============================>.] - ETA: 0s - loss: 0.0021 - accuracy: 0.9992\n",
      "Epoch 10: ReduceLROnPlateau reducing learning rate to 1e-05.\n",
      "1586/1586 [==============================] - 8s 5ms/step - loss: 0.0021 - accuracy: 0.9993 - val_loss: 0.0059 - val_accuracy: 0.9987 - lr: 4.0000e-05\n",
      "Epoch 11/100\n",
      "1586/1586 [==============================] - ETA: 0s - loss: 0.0016 - accuracy: 0.9994Restoring model weights from the end of the best epoch: 1.\n",
      "1586/1586 [==============================] - 8s 5ms/step - loss: 0.0016 - accuracy: 0.9994 - val_loss: 0.0054 - val_accuracy: 0.9989 - lr: 1.0000e-05\n",
      "Epoch 11: early stopping\n"
     ]
    }
   ],
   "source": [
    "classifier = model.fit(X_train, y_train,\n",
    "                    epochs = epochs,\n",
    "                    validation_data = (X_test, y_test),\n",
    "                    callbacks=[es, reduce_lr])"
   ]
  },
  {
   "cell_type": "code",
   "execution_count": 14,
   "metadata": {},
   "outputs": [],
   "source": [
    "y_pred = model.predict(X_test)"
   ]
  },
  {
   "cell_type": "code",
   "execution_count": 15,
   "metadata": {},
   "outputs": [],
   "source": [
    "Y_pred = np.where(y_pred > 0.5, 1, 0)"
   ]
  },
  {
   "cell_type": "code",
   "execution_count": 16,
   "metadata": {},
   "outputs": [
    {
     "name": "stdout",
     "output_type": "stream",
     "text": [
      "Accuracy:0.9493\n"
     ]
    }
   ],
   "source": [
    "print('Accuracy:{:0.4f}'.format(accuracy_score(y_test, Y_pred)))"
   ]
  },
  {
   "cell_type": "code",
   "execution_count": 17,
   "metadata": {},
   "outputs": [
    {
     "data": {
      "image/png": "[encoded data removed]",
      "text/plain": [
       "<Figure size 432x288 with 1 Axes>"
      ]
     },
     "metadata": {
      "needs_background": "light"
     },
     "output_type": "display_data"
    },
    {
     "name": "stdout",
     "output_type": "stream",
     "text": [
      "Accuracy: 94.92699363534257 %\n",
      "recall: 94.83821263482281 %\n"
     ]
    }
   ],
   "source": [
    "cm = confusion_matrix(y_test, Y_pred)\n",
    "\n",
    "def confusion_matrix_1(CM):\n",
    "    fig, ax = plot_confusion_matrix(conf_mat=CM)\n",
    "    plt.title(\"The Confusion Matrix\")\n",
    "    plt.ylabel(\"Actual\")\n",
    "    plt.xlabel(\"Predicted\")\n",
    "    plt.show()\n",
    "\n",
    "    print(\"Accuracy: \" + str((CM[1,1]+CM[0,0])/(CM[0,0]+CM[0,1]+CM[1,0]+CM[1,1])*100) + \" %\")\n",
    "    print(\"recall: \" + str(CM[1,1]/(CM[1,0]+CM[1,1])*100) +\" %\")\n",
    "confusion_matrix_1(cm)"
   ]
  },
  {
   "cell_type": "code",
   "execution_count": null,
   "metadata": {},
   "outputs": [],
   "source": []
  },
  {
   "cell_type": "code",
   "execution_count": null,
   "metadata": {},
   "outputs": [],
   "source": []
  }
 ],
 "metadata": {
  "kernelspec": {
   "display_name": "Python 3",
   "language": "python",
   "name": "python3"
  },
  "language_info": {
   "codemirror_mode": {
    "name": "ipython",
    "version": 3
   },
   "file_extension": ".py",
   "mimetype": "text/x-python",
   "name": "python",
   "nbconvert_exporter": "python",
   "pygments_lexer": "ipython3",
   "version": "3.8.5"
  }
 },
 "nbformat": 4,
 "nbformat_minor": 5
}
